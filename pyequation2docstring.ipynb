{
 "cells": [
  {
   "cell_type": "code",
   "execution_count": 5,
   "metadata": {},
   "outputs": [],
   "source": [
    "from pytexit import py2tex\n",
    "from IPython.display import display, Math\n",
    "from ipywidgets import widgets, Layout\n",
    "#import pyperclip\n",
    "#%matplotlib inline"
   ]
  },
  {
   "cell_type": "code",
   "execution_count": 6,
   "metadata": {},
   "outputs": [],
   "source": [
    "# widgets\n",
    "txt_py = widgets.Text(\n",
    "    value=\"\",\n",
    "    layout=Layout(width='800px'),\n",
    "    continuous_update=False\n",
    ")\n",
    "\n",
    "output_py = widgets.Output()\n",
    "\n",
    "lbl_py = widgets.HTMLMath(\n",
    ")\n",
    "\n",
    "txt_latex = widgets.Text(\n",
    "    value=\"\",\n",
    "    layout=Layout(width='800px')\n",
    ")\n",
    "\n",
    "output_latex = widgets.Output() # zeigt Fehler in Formel an\n",
    "\n",
    "lbl_latex = widgets.HTMLMath(\n",
    ")\n",
    "\n",
    "delimiter = widgets.RadioButtons(\n",
    "    options=['inline equation \\( ... \\)', 'block equation \\[ ... \\]', 'no delimiter'],\n",
    "    disabled=False,\n",
    ")\n",
    "\n",
    "backslash = widgets.Checkbox(\n",
    "    value=True,\n",
    "    description='add backslash escape character',\n",
    "    indent = False,\n",
    "    disabled=False\n",
    ")\n",
    "\n",
    "txt_export = widgets.HTML(\n",
    "    value=\" \", \n",
    ")\n",
    "\n",
    "vertical_space = widgets.Label()\n",
    "\n",
    "button_copy = widgets.Button(description=\"Copy to clipboard\",disabled=True)\n",
    "\n",
    "button_example = widgets.Button(description=\"Show example\")\n",
    "\n",
    "button_clear = widgets.Button(description=\"Clear input\")\n"
   ]
  },
  {
   "cell_type": "code",
   "execution_count": 7,
   "metadata": {},
   "outputs": [],
   "source": [
    "def on_button_clicked(b):\n",
    "    pass\n",
    "    #pyperclip.copy(txt_export.value)\n",
    "    \n",
    "def on_example_clicked(b):\n",
    "    txt_py.value=\"ceta_c = 1.98e-6 * (w / s) ** 1.23 * reref ** 0.7 + deltax\"\n",
    "    txt_latex.value=r\"\\zeta_c=1.98 \\cdot 10^{-6} {\\left(\\frac{w}{s}\\right)}^{1.23} {Re_{ref}}^{0.7}+\\Delta_x\"\n",
    "    \n",
    "def on_clear_clicked(b):\n",
    "    txt_py.value=\"\"\n",
    "    \n",
    "def on_py_change(value):\n",
    "    output_py.clear_output(wait=True)\n",
    "    if txt_py.value:\n",
    "        with output_py:\n",
    "            output_py.clear_output(wait=False)\n",
    "            try:\n",
    "                a = py2tex(txt_py.value, print_latex=False, print_formula=False)\n",
    "            except:\n",
    "                a = py2tex(txt_py.value, print_latex=False, print_formula=False)\n",
    "                display(Math(a))\n",
    "\n",
    "        lbl_py.value = py2tex(txt_py.value, print_latex=False, print_formula=False)\n",
    "\n",
    "        txt_latex.value = a[2:-2]\n",
    "    else:\n",
    "        lbl_py.value = \"\"\n",
    "        txt_latex.value = \"\"\n",
    "    \n",
    "    \n",
    "def on_latex_change(value):\n",
    "    output_latex.clear_output(wait=True)\n",
    "    with output_latex:\n",
    "        display(Math(txt_latex.value))\n",
    "        \n",
    "    s = \"$$\" + txt_latex.value + \"$$\"\n",
    "    lbl_latex.value = s\n",
    "    \n",
    "    update_export_string()\n",
    "\n",
    "    \n",
    "def update_export_string():\n",
    "    export_string = txt_latex.value\n",
    "    \n",
    "    if delimiter.value == \"inline equation \\( ... \\)\":\n",
    "        export_string = \"\\(\" + export_string + \"\\)\"\n",
    "    if delimiter.value == \"block equation \\[ ... \\]\":\n",
    "        export_string = \"\\[\" + export_string + \"\\]\"\n",
    "        \n",
    "    if backslash.value: \n",
    "        export_string = repr(export_string)[1:-1]\n",
    "    else:\n",
    "        export_string = export_string\n",
    "\n",
    "    txt_export.value = export_string\n",
    "    \n",
    "def selection_changed(value):\n",
    "    update_export_string()\n",
    "\n",
    "txt_py.observe(on_py_change, names=\"value\")\n",
    "txt_latex.observe(on_latex_change, names=\"value\")\n",
    "delimiter.observe(selection_changed)\n",
    "backslash.observe(selection_changed)\n",
    "button_copy.on_click(on_button_clicked)\n",
    "button_example.on_click(on_example_clicked)\n",
    "button_clear.on_click(on_clear_clicked)"
   ]
  },
  {
   "cell_type": "markdown",
   "metadata": {},
   "source": [
    "## Pyequation2docstring\n",
    "Render a mathematical formula written in Python for visual verification and create LaTeX code to paste in a [docstring](https://numpydoc.readthedocs.io/en/latest/format.html)."
   ]
  },
  {
   "cell_type": "code",
   "execution_count": 8,
   "metadata": {},
   "outputs": [
    {
     "data": {
      "application/vnd.jupyter.widget-view+json": {
       "model_id": "1c5912f5ac6e4821afc1e3afbea9930a",
       "version_major": 2,
       "version_minor": 0
      },
      "text/plain": [
       "VBox(children=(HBox(children=(Button(description='Show example', style=ButtonStyle()), Button(description='Cle…"
      ]
     },
     "metadata": {},
     "output_type": "display_data"
    }
   ],
   "source": [
    "box = widgets.VBox(\n",
    "    [\n",
    "        widgets.HBox([button_example, button_clear]),\n",
    "        vertical_space,\n",
    "        widgets.HTML(\n",
    "            value=\"<b>Python equation</b>\"\n",
    "        ),\n",
    "        txt_py,\n",
    "        lbl_py,\n",
    "        output_py,\n",
    "        vertical_space,\n",
    "        widgets.HTML(\n",
    "            value=\"<b>Latex syntax</b> (use this line to beautify the equation)\"\n",
    "        ),\n",
    "        txt_latex,\n",
    "        lbl_latex,\n",
    "        vertical_space,\n",
    "        widgets.HTML(\n",
    "            value=\"<b>Docstring settings</b> (for use in docstring)\"\n",
    "        ),\n",
    "        delimiter,\n",
    "        backslash,\n",
    "        vertical_space,\n",
    "        widgets.HTML(\n",
    "            value=\"<b>Docstring</b> (for copy & paste)\"\n",
    "        ),\n",
    "        widgets.VBox([txt_export, button_copy]),\n",
    "        vertical_space,\n",
    "        widgets.HTML(\n",
    "            value=\"<b>Resources</b>\"\n",
    "        ),\n",
    "    ]\n",
    ")\n",
    "display(box)"
   ]
  },
  {
   "cell_type": "markdown",
   "metadata": {},
   "source": [
    "[LaTeX online Editor](http://www.hostmath.com/)"
   ]
  },
  {
   "cell_type": "code",
   "execution_count": null,
   "metadata": {},
   "outputs": [],
   "source": []
  }
 ],
 "metadata": {
  "kernelspec": {
   "display_name": "Python 3",
   "language": "python",
   "name": "python3"
  },
  "language_info": {
   "codemirror_mode": {
    "name": "ipython",
    "version": 3
   },
   "file_extension": ".py",
   "mimetype": "text/x-python",
   "name": "python",
   "nbconvert_exporter": "python",
   "pygments_lexer": "ipython3",
   "version": "3.7.6"
  }
 },
 "nbformat": 4,
 "nbformat_minor": 4
}
